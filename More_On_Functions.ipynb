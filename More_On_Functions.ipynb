{
  "nbformat": 4,
  "nbformat_minor": 0,
  "metadata": {
    "colab": {
      "name": "More On Functions.ipynb",
      "provenance": [],
      "authorship_tag": "ABX9TyPRnOpSZqKrEfVAVX/rJwOo",
      "include_colab_link": true
    },
    "kernelspec": {
      "name": "python3",
      "display_name": "Python 3"
    }
  },
  "cells": [
    {
      "cell_type": "markdown",
      "metadata": {
        "id": "view-in-github",
        "colab_type": "text"
      },
      "source": [
        "<a href=\"https://colab.research.google.com/github/ShivanshGupta1/More-Functions/blob/main/More_On_Functions.ipynb\" target=\"_parent\"><img src=\"https://colab.research.google.com/assets/colab-badge.svg\" alt=\"Open In Colab\"/></a>"
      ]
    },
    {
      "cell_type": "code",
      "metadata": {
        "colab": {
          "base_uri": "https://localhost:8080/"
        },
        "id": "vTp8wCBQnDL7",
        "outputId": "bb956ec0-320b-46c2-e4ed-8ddeb3bf78cf"
      },
      "source": [
        "#Functions are first class function in Python - They can be\n",
        "#Assigned to variables\n",
        "#Can be used as parameters for other functions - print(type())\n",
        "#They\n",
        "#Copied -\n",
        "def fun1():\n",
        "  print(\"Hello World\")\n",
        "  return \"Hello\"\n",
        "fun2 = fun1 #This is called copying\n",
        "print(fun2)#It will print fun1's loctaion\n",
        "print(fun2())#This will print its body and what it returns"
      ],
      "execution_count": null,
      "outputs": [
        {
          "output_type": "stream",
          "text": [
            "<function fun1 at 0x7f994628e510>\n",
            "Hello World\n",
            "Hello\n"
          ],
          "name": "stdout"
        }
      ]
    },
    {
      "cell_type": "code",
      "metadata": {
        "colab": {
          "base_uri": "https://localhost:8080/"
        },
        "id": "gRtZHVYBoahd",
        "outputId": "bf8151ce-c579-4230-b35f-bcdd73e2a111"
      },
      "source": [
        "#Functions in lists\n",
        "def sum(x):#This function adds 1 to x's value\n",
        "  return x+1\n",
        "def multiply(x):#This function multiplis x*2\n",
        "    return x*2\n",
        "myList = [sum,multiply]#They are stored in a list\n",
        "print(myList[1](2))#We are now calling them!"
      ],
      "execution_count": null,
      "outputs": [
        {
          "output_type": "stream",
          "text": [
            "4\n"
          ],
          "name": "stdout"
        }
      ]
    },
    {
      "cell_type": "code",
      "metadata": {
        "colab": {
          "base_uri": "https://localhost:8080/"
        },
        "id": "eSJI3yDVo9bh",
        "outputId": "4f73612a-78b5-4974-ae95-25ad8c9274e6"
      },
      "source": [
        "#Recursion - When a function is executed iside themselves\n",
        "def factorial(userInput):#This is the factorial function\n",
        "  if userInput==1:#It checks if the user input = 1, then it returns 1\n",
        "    return 1\n",
        "  else:\n",
        "    return (userInput*factorial(userInput-1))#Else it multiplies it by the same function again - for eg. I input 3, then it mutiplies 3*[2 (function)*[1(function that returns 1)]]\n",
        "userInput = int(input(\"Please input your number - \"))#This is storing the userInput\n",
        "finalAnswer = factorial(userInput)#This is storing it in a variable\n",
        "print(finalAnswer)#This is printing it"
      ],
      "execution_count": null,
      "outputs": [
        {
          "output_type": "stream",
          "text": [
            "Please input your number - 4\n",
            "24\n"
          ],
          "name": "stdout"
        }
      ]
    },
    {
      "cell_type": "code",
      "metadata": {
        "id": "J0jSULNSs17R",
        "colab": {
          "base_uri": "https://localhost:8080/"
        },
        "outputId": "f2b59942-235a-459f-9a1a-c53eb53e368b"
      },
      "source": [
        "def fibbonaci(userInput):#This is the function\n",
        "  if userInput==1 or userInput==2:#This is cheking if the nth term is 2 or 1 because then the reuslt will be 1 only\n",
        "    return 1\n",
        "  else:\n",
        "    return(fibbonaci(userInput-1)+fibbonaci(userInput-2))#Else this logic apllies and it prints the next number\n",
        "userInput = int(input(\"Till what number do you want to print the fibbonaci sequence?\"))#Here we ask for the nth term\n",
        "for i in range(1,userInput+1):#We run a for loop for every number\n",
        "  print(fibbonaci(i))#Here it prints it"
      ],
      "execution_count": null,
      "outputs": [
        {
          "output_type": "stream",
          "text": [
            "Till what number do you want to print the fibbonaci sequence?5\n",
            "1\n",
            "1\n",
            "2\n",
            "3\n",
            "5\n"
          ],
          "name": "stdout"
        }
      ]
    }
  ]
}